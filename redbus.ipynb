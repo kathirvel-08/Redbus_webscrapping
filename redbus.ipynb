{
 "cells": [
  {
   "cell_type": "markdown",
   "metadata": {},
   "source": [
    "**1. Initial setup for selenium pakage with state links**"
   ]
  },
  {
   "cell_type": "code",
   "execution_count": 1,
   "metadata": {},
   "outputs": [],
   "source": [
    "from selenium import webdriver\n",
    "from selenium.webdriver.common.by import By\n",
    "from selenium.webdriver.common.keys import Keys\n",
    "from selenium.webdriver.support.wait import WebDriverWait\n",
    "from selenium.webdriver.support import expected_conditions as EC\n",
    "from selenium.webdriver import ActionChains\n",
    "import time\n",
    "import pandas as pd\n",
    "\n",
    "#driver setup\n",
    "driver=webdriver.Chrome()\n",
    "driver.get('https://www.redbus.in')\n",
    "driver.maximize_window()\n",
    "time.sleep(2)\n",
    "\n",
    "#viewing all states\n",
    "view_all_states=driver.find_element(By.XPATH,\"//*[@id='homeV2-root']/div[3]/div[1]/div[2]/a\")\n",
    "view_all_states.click()\n",
    "\n",
    "#due to jumping tab to fetch the current url to driver\n",
    "current_url = view_all_states.get_attribute('href')\n",
    "driver.get(current_url)\n",
    "\n",
    "#all_links\n",
    "state_links=driver.find_elements(By.CLASS_NAME,'D113_link')\n",
    "state_links_dict={}\n",
    "for links in state_links:\n",
    "    state_links_dict.update({links.text : links.get_attribute('href')})"
   ]
  },
  {
   "cell_type": "code",
   "execution_count": 2,
   "metadata": {},
   "outputs": [
    {
     "data": {
      "text/plain": [
       "{'RSRTC': 'https://www.redbus.in/online-booking/rajasthan-state-road-transport-corporation',\n",
       " 'PEPSU (Punjab)': 'https://www.redbus.in/online-booking/pepsu-punjab',\n",
       " 'Himachal Pradesh Tourism Development Corporation (HPTDC)': 'https://www.redbus.in/online-booking/himachal-pradesh-tourism-development-corporation-hptdc',\n",
       " 'UPSRTC': 'https://www.redbus.in/online-booking/upsrtc',\n",
       " 'Chandigarh Transport Undertaking (CTU)': 'https://www.redbus.in/online-booking/chandigarh-transport-undertaking-ctu',\n",
       " 'HRTC': 'https://www.redbus.in/online-booking/hrtc',\n",
       " 'APSRTC': 'https://www.redbus.in/online-booking/apsrtc',\n",
       " 'KSRTC (Kerala)': 'https://www.redbus.in/online-booking/ksrtc-kerala',\n",
       " 'TNSTC': 'https://www.redbus.in/online-booking/tnstc',\n",
       " 'Puducherry Road Transport Corporation (PRTC)': 'https://www.redbus.in/online-booking/puducherry-road-transport-corporation-prtc',\n",
       " 'Kadamba Transport Corporation Limited (KTCL)': 'https://www.redbus.in/online-booking/ktcl',\n",
       " 'TSRTC': 'https://www.redbus.in/online-booking/tsrtc',\n",
       " 'BSRTC Operated By VIP Travels': 'https://www.redbus.in/online-booking/bsrtc-operated-by-vip-travels',\n",
       " 'South Bengal State Transport Corporation (SBSTC)': 'https://www.redbus.in/online-booking/south-bengal-state-transport-corporation-sbstc',\n",
       " 'NORTH BENGAL STATE TRANSPORT CORPORATION': 'https://www.redbus.in/online-booking/north-bengal-state-transport-corporation',\n",
       " 'Bihar State Tourism Development Corporation (BSTDC)': 'https://www.redbus.in/online-booking/bihar-state-tourism-development-corporation',\n",
       " 'WBTC (CTC)': 'https://www.redbus.in/online-booking/wbtc-ctc',\n",
       " 'West Bengal Transport Corporation': 'https://www.redbus.in/online-booking/west-bengal-transport-corporation',\n",
       " 'Bihar State Road Transport Corporation (BSRTC)': 'https://www.redbus.in/online-booking/bihar-state-road-transport-corporation-bsrtc',\n",
       " 'Sikkim Nationalised Transport (SNT)': 'https://www.redbus.in/online-booking/sikkim-nationalised-transport-snt',\n",
       " 'Assam State Transport Corporation (ASTC)': 'https://www.redbus.in/online-booking/assam-state-transport-corporation-astc',\n",
       " 'KAAC TRANSPORT': 'https://www.redbus.in/online-booking/kaac-transport',\n",
       " 'Meghalaya Transport Corporation(MTC)': 'https://www.redbus.in/online-booking/meghalaya-transport-corporation-mtc',\n",
       " 'GSRTC': 'https://www.redbus.in/online-booking/gsrtc'}"
      ]
     },
     "execution_count": 2,
     "metadata": {},
     "output_type": "execute_result"
    }
   ],
   "source": [
    "state_links_dict"
   ]
  },
  {
   "cell_type": "markdown",
   "metadata": {},
   "source": [
    "**2. ALL BUS DETAILS COMMON FUNCTION**"
   ]
  },
  {
   "cell_type": "code",
   "execution_count": 5,
   "metadata": {},
   "outputs": [],
   "source": [
    "def scrapper(State_link, State_Name):\n",
    "    \n",
    "    \"\"\"\n",
    "    This Function works for \n",
    "    \n",
    "    1. Scrapping data from www.redbus.in website. \n",
    "    2. Convert all the data from dict to DataFrame.\n",
    "    \n",
    "    \"\"\"\n",
    "    \n",
    "    # State bus data dictionary\n",
    "    State_data_dict = {\n",
    "        \"State\": [], \"routeName\": [], \"routeLink\": [], \"busName\": [], \"busType\": [], \"departingTime\": [],\n",
    "        \"Duration\": [], \"ReachingTime\": [], \"StarRating\": [], \"Price\": [], \"SeatAvailability\": []\n",
    "    }\n",
    "\n",
    "    # Required packages\n",
    "    from selenium import webdriver\n",
    "    from selenium.webdriver.common.by import By\n",
    "    from selenium.webdriver.common.action_chains import ActionChains\n",
    "    from selenium.webdriver.support.ui import WebDriverWait\n",
    "    from selenium.webdriver.support import expected_conditions as EC\n",
    "    import time\n",
    "    import pandas as pd\n",
    "    import numpy as np\n",
    "\n",
    "    # Initialize the driver\n",
    "    driver = webdriver.Chrome()\n",
    "\n",
    "    # Access the link from the dictionary\n",
    "    driver.get(State_link)\n",
    "    driver.maximize_window()\n",
    "    time.sleep(3)\n",
    "\n",
    "    # Pagination and route collection\n",
    "    State_route_links_list = []\n",
    "    wait = WebDriverWait(driver, 20)\n",
    "    page_number = 0\n",
    "\n",
    "    for i in range(1, 10):\n",
    "        try:\n",
    "            pagination_container = wait.until(\n",
    "                EC.presence_of_element_located((By.XPATH, \"//*[@id='root']/div/div[4]/div[10]\"))\n",
    "            )\n",
    "            next_page_button = pagination_container.find_element(\n",
    "                By.XPATH, f\"//div[contains(@class, 'DC_117_pageTabs') and text()='{page_number + 1}']\"\n",
    "            )\n",
    "            action = ActionChains(driver)\n",
    "            action.move_to_element(next_page_button).perform()\n",
    "            time.sleep(2)\n",
    "            next_page_button.click()\n",
    "            page_number += 1\n",
    "        except:\n",
    "            pass\n",
    "\n",
    "        # Collect route links\n",
    "        State_route_links = driver.find_elements(By.XPATH, '//a[@class=\"route\"]')\n",
    "        for route in State_route_links:\n",
    "            State_route_links_list.append(route.get_attribute('href'))\n",
    "\n",
    "    # Get unique route links\n",
    "    State_unique_route_links = list(set(State_route_links_list))\n",
    "    print(len(State_unique_route_links))\n",
    "\n",
    "    # Iterate through all route links to get bus info\n",
    "    for route_link in State_unique_route_links:\n",
    "        driver.get(route_link)\n",
    "        time.sleep(3)\n",
    "\n",
    "        # Click \"View Bus\" for additional buses\n",
    "        try:\n",
    "            other_busses = driver.find_elements(By.XPATH, '//div[@class=\"button\"]')\n",
    "            for i in reversed(other_busses):\n",
    "                i.click()\n",
    "                time.sleep(2)\n",
    "        except:\n",
    "            pass\n",
    "        \n",
    "        #Using java script for scroll page for infinite scroll\n",
    "        try:\n",
    "            last_height = driver.execute_script(\"return document.body.scrollHeight\")\n",
    "            while True:\n",
    "                # Scroll down to the bottom\n",
    "                driver.execute_script(\"window.scrollTo(0, document.body.scrollHeight);\")\n",
    "\n",
    "                # Wait for the new page section to load\n",
    "                time.sleep(3)\n",
    "\n",
    "                # Calculate new scroll height and compare with the last scroll height\n",
    "                new_height = driver.execute_script(\"return document.body.scrollHeight\")\n",
    "                if new_height == last_height:\n",
    "                    break  # If the heights are the same, we’ve reached the bottom\n",
    "                last_height = new_height\n",
    "        except:\n",
    "            print('error occurred')\n",
    "\n",
    "        # Scrape bus data\n",
    "        data = driver.find_elements(By.XPATH, \"//div[@class='clearfix bus-item-details']\")\n",
    "        State_route_name = driver.find_element(By.XPATH, '//h1[@class=\"D136_h1\"]').text\n",
    "        State_route_link = route_link\n",
    "\n",
    "        # Push data to dictionary\n",
    "        for bus in data:\n",
    "            State_data_dict['State'].append(f'{State_Name}')\n",
    "            State_data_dict['routeName'].append(State_route_name)\n",
    "            State_data_dict['routeLink'].append(State_route_link)\n",
    "            State_data_dict['busName'].append(bus.find_element(By.XPATH, \".//div[@class='travels lh-24 f-bold d-color']\").text)\n",
    "            State_data_dict['busType'].append(bus.find_element(By.XPATH, \".//div[@class='bus-type f-12 m-top-16 l-color evBus']\").text)\n",
    "            State_data_dict['departingTime'].append(bus.find_element(By.XPATH, \".//div[@class='dp-time f-19 d-color f-bold']\").text)\n",
    "            State_data_dict['Duration'].append(bus.find_element(By.XPATH, \".//div[@class='column-four p-right-10 w-10 fl']\").text)\n",
    "            State_data_dict['ReachingTime'].append(bus.find_element(By.XPATH, \".//div[@class='bp-time f-19 d-color disp-Inline']\").text)\n",
    "            try:\n",
    "                State_data_dict['StarRating'].append(float(bus.find_element(By.XPATH, \".//div[@class='rating-sec lh-24']\").text))\n",
    "            except:\n",
    "                State_data_dict['StarRating'].append(0)\n",
    "            try:\n",
    "                State_data_dict['Price'].append(bus.find_element(By.XPATH, \".//span[@class='f-19 f-bold']\").text)\n",
    "            except:\n",
    "                State_data_dict['Price'].append(0)\n",
    "            try:\n",
    "                State_data_dict['SeatAvailability'].append(bus.find_element(By.XPATH, \".//div[@class='seat-left m-top-16']\").text[0:2])\n",
    "            except:\n",
    "                State_data_dict['SeatAvailability'].append(0)\n",
    "            \n",
    "    # Convert data into DataFrame\n",
    "    df = pd.DataFrame(State_data_dict)\n",
    "\n",
    "    # Convert data types\n",
    "    df['State'] = df['State'].astype(str)\n",
    "    df['routeName'] = df['routeName'].astype(str)\n",
    "    df['routeLink'] = df['routeLink'].astype(str)\n",
    "    df['busName'] = df['busName'].astype(str)\n",
    "    df['busType'] = df['busType'].astype(str)\n",
    "    df['Duration'] = df['Duration'].astype(str)\n",
    "    df['StarRating'] = df['StarRating'].astype(float)\n",
    "    df['SeatAvailability'] = df['SeatAvailability'].astype(int)\n",
    "\n",
    "    # Replace empty strings with NaN in the Price column\n",
    "    df['Price'] = df['Price'].replace('', np.nan)\n",
    "\n",
    "    # Convert Price column to numeric type, ignoring errors (to handle any invalid values)\n",
    "    df['Price'] = pd.to_numeric(df['Price'], errors='coerce')\n",
    "\n",
    "    # Fill NaN values with 0 (or any other strategy, depending on your needs)\n",
    "    df['Price'].fillna(0)\n",
    "\n",
    "    # Now convert the Price column to float\n",
    "    df['Price'] = df['Price'].astype(float)\n",
    "\n",
    "\n",
    "    # Clean time string function\n",
    "    def clean_time_string(time_str):\n",
    "        time_str = time_str.strip()  # Remove any surrounding spaces\n",
    "        if len(time_str) <= 2:  # If time only has hours, add \":00\" for minutes\n",
    "            return time_str + ':00'\n",
    "        return time_str\n",
    "\n",
    "    # Apply the cleaning function before converting to datetime\n",
    "    df['departingTime'] = df['departingTime'].apply(clean_time_string)\n",
    "    df['ReachingTime'] = df['ReachingTime'].apply(clean_time_string)\n",
    "    \n",
    "    # Convert times to datetime objects\n",
    "    df['departingTime'] = pd.to_datetime(df['departingTime'], format='%H:%M').dt.time\n",
    "    df['ReachingTime'] = pd.to_datetime(df['ReachingTime'], format='%H:%M').dt.time\n",
    "\n",
    "    return df"
   ]
  },
  {
   "cell_type": "markdown",
   "metadata": {},
   "source": [
    "STATE LIST\n",
    "\n",
    "1. RSRTC\n",
    "2. PEPSU\n",
    "3. UPSRTC\n",
    "4. HRTC\n",
    "5. South Bengal State Transport Corporation (SBSTC)\n",
    "6. NORTH BENGAL STATE TRANSPORT CORPORATION\n",
    "7. WBTC (CTC)\n",
    "8. APSRTC\n",
    "9. TSRTC\n",
    "10. Sikkim Nationalised Transport (SNT)\n"
   ]
  },
  {
   "cell_type": "code",
   "execution_count": 6,
   "metadata": {},
   "outputs": [
    {
     "name": "stdout",
     "output_type": "stream",
     "text": [
      "18\n"
     ]
    }
   ],
   "source": [
    "#RSRTC\n",
    "df1=scrapper(state_links_dict['RSRTC'],\"RSRTC\")\n",
    "time.sleep(3)"
   ]
  },
  {
   "cell_type": "code",
   "execution_count": 9,
   "metadata": {},
   "outputs": [
    {
     "name": "stdout",
     "output_type": "stream",
     "text": [
      "18\n"
     ]
    }
   ],
   "source": [
    "#PEPSU\n",
    "df2=scrapper(state_links_dict['PEPSU (Punjab)'],\"PEPSU (Punjab)\")\n",
    "time.sleep(3)"
   ]
  },
  {
   "cell_type": "code",
   "execution_count": 11,
   "metadata": {},
   "outputs": [
    {
     "name": "stdout",
     "output_type": "stream",
     "text": [
      "49\n"
     ]
    }
   ],
   "source": [
    "#UPSRTC\n",
    "df3=scrapper(state_links_dict['UPSRTC'],\"UPSRTC\")\n",
    "time.sleep(3)"
   ]
  },
  {
   "cell_type": "code",
   "execution_count": 13,
   "metadata": {},
   "outputs": [
    {
     "name": "stdout",
     "output_type": "stream",
     "text": [
      "35\n"
     ]
    }
   ],
   "source": [
    "#HRTC\n",
    "df4=scrapper(state_links_dict[\"HRTC\"],\"HRTC\")\n",
    "time.sleep(3)"
   ]
  },
  {
   "cell_type": "code",
   "execution_count": 15,
   "metadata": {},
   "outputs": [
    {
     "name": "stdout",
     "output_type": "stream",
     "text": [
      "41\n"
     ]
    }
   ],
   "source": [
    "#South Bengal State Transport Corporation (SBSTC)\n",
    "df5=scrapper(state_links_dict['South Bengal State Transport Corporation (SBSTC)'],'South Bengal State Transport Corporation (SBSTC)')\n",
    "time.sleep(3)"
   ]
  },
  {
   "cell_type": "code",
   "execution_count": 17,
   "metadata": {},
   "outputs": [
    {
     "name": "stdout",
     "output_type": "stream",
     "text": [
      "47\n"
     ]
    }
   ],
   "source": [
    "#NORTH BENGAL STATE TRANSPORT CORPORATION\n",
    "df6=scrapper(state_links_dict['NORTH BENGAL STATE TRANSPORT CORPORATION'],'NORTH BENGAL STATE TRANSPORT CORPORATION')\n",
    "time.sleep(3)"
   ]
  },
  {
   "cell_type": "code",
   "execution_count": 19,
   "metadata": {},
   "outputs": [
    {
     "name": "stdout",
     "output_type": "stream",
     "text": [
      "38\n"
     ]
    }
   ],
   "source": [
    "#WBTC (CTC)\n",
    "df7=scrapper(state_links_dict['WBTC (CTC)'],'WBTC (CTC)')\n",
    "time.sleep(3)"
   ]
  },
  {
   "cell_type": "code",
   "execution_count": 21,
   "metadata": {},
   "outputs": [
    {
     "name": "stdout",
     "output_type": "stream",
     "text": [
      "46\n"
     ]
    }
   ],
   "source": [
    "#APSRTC\n",
    "df8=scrapper(state_links_dict['APSRTC'],'APSRTC')\n",
    "time.sleep(3)"
   ]
  },
  {
   "cell_type": "code",
   "execution_count": 24,
   "metadata": {},
   "outputs": [
    {
     "name": "stdout",
     "output_type": "stream",
     "text": [
      "26\n"
     ]
    }
   ],
   "source": [
    "#TSRTC\n",
    "df9=scrapper(state_links_dict['TSRTC'],'TSRTC')\n",
    "time.sleep(3)"
   ]
  },
  {
   "cell_type": "code",
   "execution_count": 26,
   "metadata": {},
   "outputs": [
    {
     "name": "stdout",
     "output_type": "stream",
     "text": [
      "15\n"
     ]
    }
   ],
   "source": [
    "#KSRTC\n",
    "df10=scrapper(state_links_dict['KSRTC (Kerala)'],'KSRTC (Kerala)')\n",
    "time.sleep(3)"
   ]
  },
  {
   "cell_type": "code",
   "execution_count": 28,
   "metadata": {},
   "outputs": [],
   "source": [
    "#concat all the dataframe\n",
    "concat_df=pd.concat([df1,df2,df3,df4,df5,df6,df7,df8,df9,df10],axis=0,ignore_index=True)"
   ]
  },
  {
   "cell_type": "code",
   "execution_count": 29,
   "metadata": {},
   "outputs": [],
   "source": [
    "import pandas as pd #for additional backup of scrapped data\n",
    "concat_df.to_csv('redbus.csv',index=False)"
   ]
  },
  {
   "cell_type": "code",
   "execution_count": 1,
   "metadata": {},
   "outputs": [
    {
     "data": {
      "text/plain": [
       "(15569, 11)"
      ]
     },
     "execution_count": 1,
     "metadata": {},
     "output_type": "execute_result"
    }
   ],
   "source": [
    "import pandas as pd\n",
    "df=pd.read_csv('redbus.csv')\n",
    "df.shape"
   ]
  },
  {
   "cell_type": "code",
   "execution_count": 3,
   "metadata": {},
   "outputs": [],
   "source": [
    "#Sql part for data pushing\n",
    "\n",
    "#Sql connection\n",
    "import mysql.connector\n",
    "connection = mysql.connector.connect(\n",
    "host=\"localhost\",\n",
    "user=\"root\",\n",
    "password=\"\",\n",
    "database='redbus')\n",
    "cursor = connection.cursor(buffered=True)\n",
    "\n",
    "#Migrate all data into SQL\n",
    "query_for_data_push = \"\"\"INSERT INTO REDBUS (State, routeName, routeLink, busName, busType, departingTime, Duration, ReachingTime, StarRating, Price, SeatAvailability) \n",
    "VALUES (%s, %s, %s, %s, %s, %s, %s, %s, %s, %s, %s)\"\"\"\n",
    "for index,rows in df.iterrows():\n",
    "    cursor.execute(query_for_data_push,(rows['State'],rows['routeName'],rows['routeLink'],rows['busName'],rows['busType'],rows['departingTime'],rows['Duration'],rows['ReachingTime'],rows['StarRating'],rows['Price'],rows['SeatAvailability']))\n",
    "connection.commit()"
   ]
  },
  {
   "cell_type": "code",
   "execution_count": 2,
   "metadata": {},
   "outputs": [],
   "source": [
    "#truncate table for add new data\n",
    "#Sql connection\n",
    "import mysql.connector\n",
    "connection = mysql.connector.connect(\n",
    "host=\"localhost\",\n",
    "user=\"root\",\n",
    "password=\"\",\n",
    "database='redbus')\n",
    "cursor = connection.cursor(buffered=True)\n",
    "cursor.execute(\"TRUNCATE redbus;\")"
   ]
  }
 ],
 "metadata": {
  "kernelspec": {
   "display_name": "redbus_venv",
   "language": "python",
   "name": "python3"
  },
  "language_info": {
   "codemirror_mode": {
    "name": "ipython",
    "version": 3
   },
   "file_extension": ".py",
   "mimetype": "text/x-python",
   "name": "python",
   "nbconvert_exporter": "python",
   "pygments_lexer": "ipython3",
   "version": "3.12.6"
  }
 },
 "nbformat": 4,
 "nbformat_minor": 2
}
